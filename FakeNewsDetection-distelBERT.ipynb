{
 "cells": [
  {
   "cell_type": "code",
   "execution_count": 1,
   "metadata": {
    "_cell_guid": "b1076dfc-b9ad-4769-8c92-a6c4dae69d19",
    "_uuid": "8f2839f25d086af736a60e9eeb907d3b93b6e0e5",
    "execution": {
     "iopub.execute_input": "2025-09-10T09:59:47.323166Z",
     "iopub.status.busy": "2025-09-10T09:59:47.322869Z",
     "iopub.status.idle": "2025-09-10T09:59:48.758279Z",
     "shell.execute_reply": "2025-09-10T09:59:48.757473Z",
     "shell.execute_reply.started": "2025-09-10T09:59:47.323142Z"
    },
    "trusted": true
   },
   "outputs": [
    {
     "name": "stdout",
     "output_type": "stream",
     "text": [
      "/kaggle/input/fake-news-detection-datasets/News _dataset/True.csv\n",
      "/kaggle/input/fake-news-detection-datasets/News _dataset/Fake.csv\n"
     ]
    }
   ],
   "source": [
    "# This Python 3 environment comes with many helpful analytics libraries installed\n",
    "# It is defined by the kaggle/python Docker image: https://github.com/kaggle/docker-python\n",
    "# For example, here's several helpful packages to load\n",
    "\n",
    "import numpy as np # linear algebra\n",
    "import pandas as pd # data processing, CSV file I/O (e.g. pd.read_csv)\n",
    "\n",
    "# Input data files are available in the read-only \"../input/\" directory\n",
    "# For example, running this (by clicking run or pressing Shift+Enter) will list all files under the input directory\n",
    "\n",
    "import os\n",
    "for dirname, _, filenames in os.walk('/kaggle/input'):\n",
    "    for filename in filenames:\n",
    "        print(os.path.join(dirname, filename))\n",
    "\n",
    "# You can write up to 20GB to the current directory (/kaggle/working/) that gets preserved as output when you create a version using \"Save & Run All\" \n",
    "# You can also write temporary files to /kaggle/temp/, but they won't be saved outside of the current session"
   ]
  },
  {
   "cell_type": "code",
   "execution_count": 2,
   "metadata": {
    "execution": {
     "iopub.execute_input": "2025-09-10T10:00:05.986176Z",
     "iopub.status.busy": "2025-09-10T10:00:05.985857Z",
     "iopub.status.idle": "2025-09-10T10:00:31.223756Z",
     "shell.execute_reply": "2025-09-10T10:00:31.222958Z",
     "shell.execute_reply.started": "2025-09-10T10:00:05.986154Z"
    },
    "trusted": true
   },
   "outputs": [
    {
     "name": "stderr",
     "output_type": "stream",
     "text": [
      "2025-09-10 10:00:19.572981: E external/local_xla/xla/stream_executor/cuda/cuda_fft.cc:477] Unable to register cuFFT factory: Attempting to register factory for plugin cuFFT when one has already been registered\n",
      "WARNING: All log messages before absl::InitializeLog() is called are written to STDERR\n",
      "E0000 00:00:1757498419.757666      36 cuda_dnn.cc:8310] Unable to register cuDNN factory: Attempting to register factory for plugin cuDNN when one has already been registered\n",
      "E0000 00:00:1757498419.811855      36 cuda_blas.cc:1418] Unable to register cuBLAS factory: Attempting to register factory for plugin cuBLAS when one has already been registered\n"
     ]
    }
   ],
   "source": [
    "import pandas as pd\n",
    "import numpy as np\n",
    "from sklearn.model_selection import train_test_split\n",
    "from sklearn.metrics import classification_report, accuracy_score\n",
    "import torch\n",
    "from transformers import DistilBertTokenizerFast, DistilBertForSequenceClassification, get_scheduler\n",
    "from torch.utils.data import DataLoader\n",
    "from torch.optim import AdamW\n",
    "from tqdm import tqdm\n",
    "import re, hashlib"
   ]
  },
  {
   "cell_type": "code",
   "execution_count": 3,
   "metadata": {
    "execution": {
     "iopub.execute_input": "2025-09-10T10:01:03.404761Z",
     "iopub.status.busy": "2025-09-10T10:01:03.403720Z",
     "iopub.status.idle": "2025-09-10T10:01:05.916651Z",
     "shell.execute_reply": "2025-09-10T10:01:05.915757Z",
     "shell.execute_reply.started": "2025-09-10T10:01:03.404735Z"
    },
    "trusted": true
   },
   "outputs": [],
   "source": [
    "fake = pd.read_csv('/kaggle/input/fake-news-detection-datasets/News _dataset/Fake.csv')\n",
    "real = pd.read_csv('/kaggle/input/fake-news-detection-datasets/News _dataset/True.csv')"
   ]
  },
  {
   "cell_type": "code",
   "execution_count": 4,
   "metadata": {
    "execution": {
     "iopub.execute_input": "2025-09-10T10:01:17.654298Z",
     "iopub.status.busy": "2025-09-10T10:01:17.654005Z",
     "iopub.status.idle": "2025-09-10T10:01:17.671224Z",
     "shell.execute_reply": "2025-09-10T10:01:17.670503Z",
     "shell.execute_reply.started": "2025-09-10T10:01:17.654277Z"
    },
    "trusted": true
   },
   "outputs": [],
   "source": [
    "fake['label'] = 0\n",
    "real['label'] = 1\n",
    "data = pd.concat([fake, real], axis=0).reset_index(drop=True)"
   ]
  },
  {
   "cell_type": "code",
   "execution_count": 5,
   "metadata": {
    "execution": {
     "iopub.execute_input": "2025-09-10T10:01:38.279356Z",
     "iopub.status.busy": "2025-09-10T10:01:38.279062Z",
     "iopub.status.idle": "2025-09-10T10:01:52.496750Z",
     "shell.execute_reply": "2025-09-10T10:01:52.496115Z",
     "shell.execute_reply.started": "2025-09-10T10:01:38.279334Z"
    },
    "trusted": true
   },
   "outputs": [],
   "source": [
    "def clean_text(text):\n",
    "    if pd.isna(text):\n",
    "        return \"\"\n",
    "    text = str(text).lower()\n",
    "    text = re.sub(r'http\\S+|www\\S+|https\\S+', '', text)\n",
    "    text = re.sub(r'\\S+@\\S+', '', text)\n",
    "    text = re.sub(r'@\\w+', '', text)\n",
    "    text = re.sub(r'\\b(reuters|ap|cnn|bbc|fox|nbc|abc|cbs)\\b', '', text)\n",
    "    text = re.sub(r'\\s+', ' ', text).strip()\n",
    "    return text\n",
    "\n",
    "data['text'] = data['text'].apply(clean_text)\n",
    "data = data[data['text'].str.len() > 10].reset_index(drop=True)"
   ]
  },
  {
   "cell_type": "code",
   "execution_count": 6,
   "metadata": {
    "execution": {
     "iopub.execute_input": "2025-09-10T10:01:58.208426Z",
     "iopub.status.busy": "2025-09-10T10:01:58.207830Z",
     "iopub.status.idle": "2025-09-10T10:02:05.061213Z",
     "shell.execute_reply": "2025-09-10T10:02:05.060576Z",
     "shell.execute_reply.started": "2025-09-10T10:01:58.208403Z"
    },
    "trusted": true
   },
   "outputs": [],
   "source": [
    "def get_text_hash(text):\n",
    "    normalized = re.sub(r'[^\\w\\s]', '', text.lower())\n",
    "    normalized = re.sub(r'\\s+', ' ', normalized).strip()\n",
    "    return hashlib.md5(normalized.encode()).hexdigest()\n",
    "\n",
    "data = data.drop_duplicates(subset='text').reset_index(drop=True)\n",
    "data['text_hash'] = data['text'].apply(get_text_hash)\n",
    "data = data.drop_duplicates(subset='text_hash').reset_index(drop=True)\n",
    "data = data.drop('text_hash', axis=1)\n",
    "data = data[(data['text'].str.len() >= 50) & (data['text'].str.len() <= 5000)].reset_index(drop=True)"
   ]
  },
  {
   "cell_type": "code",
   "execution_count": 7,
   "metadata": {
    "execution": {
     "iopub.execute_input": "2025-09-10T10:02:11.984233Z",
     "iopub.status.busy": "2025-09-10T10:02:11.983627Z",
     "iopub.status.idle": "2025-09-10T10:02:12.026478Z",
     "shell.execute_reply": "2025-09-10T10:02:12.025703Z",
     "shell.execute_reply.started": "2025-09-10T10:02:11.984207Z"
    },
    "trusted": true
   },
   "outputs": [],
   "source": [
    "train_texts, temp_texts, train_labels, temp_labels = train_test_split(\n",
    "    data['text'].tolist(), data['label'].tolist(),\n",
    "    test_size=0.3, random_state=42, stratify=data['label']\n",
    ")\n",
    "\n",
    "val_texts, test_texts, val_labels, test_labels = train_test_split(\n",
    "    temp_texts, temp_labels,\n",
    "    test_size=0.5, random_state=42, stratify=temp_labels\n",
    ")\n"
   ]
  },
  {
   "cell_type": "code",
   "execution_count": 8,
   "metadata": {
    "execution": {
     "iopub.execute_input": "2025-09-10T10:02:26.686261Z",
     "iopub.status.busy": "2025-09-10T10:02:26.685982Z",
     "iopub.status.idle": "2025-09-10T10:02:54.155057Z",
     "shell.execute_reply": "2025-09-10T10:02:54.154252Z",
     "shell.execute_reply.started": "2025-09-10T10:02:26.686241Z"
    },
    "trusted": true
   },
   "outputs": [
    {
     "data": {
      "application/vnd.jupyter.widget-view+json": {
       "model_id": "f7acc989d1ab43de8d98c622e7a8ad6d",
       "version_major": 2,
       "version_minor": 0
      },
      "text/plain": [
       "tokenizer_config.json:   0%|          | 0.00/48.0 [00:00<?, ?B/s]"
      ]
     },
     "metadata": {},
     "output_type": "display_data"
    },
    {
     "data": {
      "application/vnd.jupyter.widget-view+json": {
       "model_id": "9b30b6e90d184677aef46d4eb36410fe",
       "version_major": 2,
       "version_minor": 0
      },
      "text/plain": [
       "vocab.txt:   0%|          | 0.00/232k [00:00<?, ?B/s]"
      ]
     },
     "metadata": {},
     "output_type": "display_data"
    },
    {
     "data": {
      "application/vnd.jupyter.widget-view+json": {
       "model_id": "cb43a2adbc564f78aad06e36bafe791d",
       "version_major": 2,
       "version_minor": 0
      },
      "text/plain": [
       "tokenizer.json:   0%|          | 0.00/466k [00:00<?, ?B/s]"
      ]
     },
     "metadata": {},
     "output_type": "display_data"
    },
    {
     "data": {
      "application/vnd.jupyter.widget-view+json": {
       "model_id": "ecc8b38d75264cf7ba0867bc81d0d900",
       "version_major": 2,
       "version_minor": 0
      },
      "text/plain": [
       "config.json:   0%|          | 0.00/483 [00:00<?, ?B/s]"
      ]
     },
     "metadata": {},
     "output_type": "display_data"
    }
   ],
   "source": [
    "tokenizer = DistilBertTokenizerFast.from_pretrained('distilbert-base-uncased')\n",
    "train_encodings = tokenizer(train_texts, truncation=True, padding=True, max_length=128)\n",
    "val_encodings = tokenizer(val_texts, truncation=True, padding=True, max_length=128)\n",
    "test_encodings = tokenizer(test_texts, truncation=True, padding=True, max_length=128)\n",
    "\n",
    "class NewsDataset(torch.utils.data.Dataset):\n",
    "    def __init__(self, encodings, labels):\n",
    "        self.encodings = encodings\n",
    "        self.labels = labels\n",
    "    def __len__(self):\n",
    "        return len(self.labels)\n",
    "    def __getitem__(self, idx):\n",
    "        item = {k: torch.tensor(v[idx]) for k, v in self.encodings.items()}\n",
    "        item['labels'] = torch.tensor(self.labels[idx], dtype=torch.long)\n",
    "        return item\n",
    "\n",
    "train_dataset = NewsDataset(train_encodings, train_labels)\n",
    "val_dataset = NewsDataset(val_encodings, val_labels)\n",
    "test_dataset = NewsDataset(test_encodings, test_labels)"
   ]
  },
  {
   "cell_type": "code",
   "execution_count": null,
   "metadata": {
    "execution": {
     "iopub.execute_input": "2025-09-10T10:02:58.739063Z",
     "iopub.status.busy": "2025-09-10T10:02:58.738840Z",
     "iopub.status.idle": "2025-09-10T10:02:59.313878Z",
     "shell.execute_reply": "2025-09-10T10:02:59.313020Z",
     "shell.execute_reply.started": "2025-09-10T10:02:58.739047Z"
    },
    "trusted": true
   },
   "outputs": [
    {
     "name": "stderr",
     "output_type": "stream",
     "text": [
      "Some weights of DistilBertForSequenceClassification were not initialized from the model checkpoint at distilbert-base-uncased and are newly initialized: ['classifier.bias', 'classifier.weight', 'pre_classifier.bias', 'pre_classifier.weight']\n",
      "You should probably TRAIN this model on a down-stream task to be able to use it for predictions and inference.\n"
     ]
    }
   ],
   "source": [
    "device = torch.device(\"cuda\" if torch.cuda.is_available() else \"cpu\")\n",
    "model = DistilBertForSequenceClassification.from_pretrained('distilbert-base-uncased', num_labels=2).to(device)\n",
    "\n",
    "train_loader = DataLoader(train_dataset, batch_size=8, shuffle=True)\n",
    "val_loader = DataLoader(val_dataset, batch_size=8)\n",
    "test_loader = DataLoader(test_dataset, batch_size=8)\n",
    "\n",
    "optimizer = AdamW(model.parameters(), lr=2e-5)\n",
    "num_epochs = 3\n",
    "gradient_accumulation_steps = 2 \n",
    "num_training_steps = (num_epochs * len(train_loader)) // gradient_accumulation_steps\n",
    "lr_scheduler = get_scheduler(\"linear\", optimizer=optimizer, num_warmup_steps=50, num_training_steps=num_training_steps)"
   ]
  },
  {
   "cell_type": "code",
   "execution_count": 12,
   "metadata": {
    "execution": {
     "iopub.execute_input": "2025-09-10T10:03:14.344135Z",
     "iopub.status.busy": "2025-09-10T10:03:14.343329Z",
     "iopub.status.idle": "2025-09-10T10:03:14.350784Z",
     "shell.execute_reply": "2025-09-10T10:03:14.349961Z",
     "shell.execute_reply.started": "2025-09-10T10:03:14.344103Z"
    },
    "trusted": true
   },
   "outputs": [],
   "source": [
    "def evaluate_model(model, dataloader):\n",
    "    model.eval()\n",
    "    total_loss, preds, true_labels = 0, [], []\n",
    "    with torch.no_grad():\n",
    "        for batch in dataloader:\n",
    "            batch = {k: v.to(device) for k, v in batch.items()}\n",
    "            outputs = model(**batch)\n",
    "            total_loss += outputs.loss.item()\n",
    "            preds.extend(torch.argmax(outputs.logits, dim=-1).cpu().numpy())\n",
    "            true_labels.extend(batch['labels'].cpu().numpy())\n",
    "    return total_loss / len(dataloader), accuracy_score(true_labels, preds), preds, true_labels"
   ]
  },
  {
   "cell_type": "code",
   "execution_count": null,
   "metadata": {
    "execution": {
     "iopub.execute_input": "2025-09-10T10:03:33.758646Z",
     "iopub.status.busy": "2025-09-10T10:03:33.757833Z",
     "iopub.status.idle": "2025-09-10T10:13:50.051652Z",
     "shell.execute_reply": "2025-09-10T10:13:50.050739Z",
     "shell.execute_reply.started": "2025-09-10T10:03:33.758621Z"
    },
    "trusted": true
   },
   "outputs": [
    {
     "name": "stderr",
     "output_type": "stream",
     "text": [
      "Epoch 1: 100%|██████████| 3140/3140 [03:14<00:00, 16.14it/s, loss=0.0018]\n"
     ]
    },
    {
     "name": "stdout",
     "output_type": "stream",
     "text": [
      "\n",
      "Epoch 1: Train Loss=0.0113, Val Loss=0.0122, Val Acc=0.9978\n",
      "Saved best model\n"
     ]
    },
    {
     "name": "stderr",
     "output_type": "stream",
     "text": [
      "Epoch 2: 100%|██████████| 3140/3140 [03:13<00:00, 16.22it/s, loss=0.0000]\n"
     ]
    },
    {
     "name": "stdout",
     "output_type": "stream",
     "text": [
      "\n",
      "Epoch 2: Train Loss=0.0006, Val Loss=0.0027, Val Acc=0.9994\n",
      "Saved best model\n"
     ]
    },
    {
     "name": "stderr",
     "output_type": "stream",
     "text": [
      "Epoch 3: 100%|██████████| 3140/3140 [03:13<00:00, 16.24it/s, loss=0.0000]\n"
     ]
    },
    {
     "name": "stdout",
     "output_type": "stream",
     "text": [
      "\n",
      "Epoch 3: Train Loss=0.0001, Val Loss=0.0026, Val Acc=0.9996\n",
      "Saved best model\n"
     ]
    }
   ],
   "source": [
    "best_val_accuracy = 0\n",
    "patience, patience_counter = 2, 0 \n",
    "\n",
    "for epoch in range(num_epochs):\n",
    "    model.train()\n",
    "    total_train_loss = 0\n",
    "    progress_bar = tqdm(enumerate(train_loader), total=len(train_loader), desc=f\"Epoch {epoch+1}\")\n",
    "\n",
    "    for step, batch in progress_bar:\n",
    "        batch = {k: v.to(device) for k, v in batch.items()}\n",
    "        outputs = model(**batch)\n",
    "        loss = outputs.loss / gradient_accumulation_steps\n",
    "        loss.backward()\n",
    "        total_train_loss += loss.item()\n",
    "\n",
    "        if (step + 1) % gradient_accumulation_steps == 0:\n",
    "            optimizer.step()\n",
    "            lr_scheduler.step()\n",
    "            optimizer.zero_grad()\n",
    "\n",
    "        progress_bar.set_postfix({\"loss\": f\"{loss.item():.4f}\"})\n",
    "\n",
    "    avg_train_loss = total_train_loss / len(train_loader)\n",
    "    val_loss, val_accuracy, _, _ = evaluate_model(model, val_loader)\n",
    "\n",
    "    print(f\"\\nEpoch {epoch+1}: Train Loss={avg_train_loss:.4f}, Val Loss={val_loss:.4f}, Val Acc={val_accuracy:.4f}\")\n",
    "\n",
    "    if val_accuracy > best_val_accuracy:\n",
    "        best_val_accuracy = val_accuracy\n",
    "        torch.save(model.state_dict(), \"best_model.pt\")\n",
    "        patience_counter = 0\n",
    "        print(\"Saved best model\")\n",
    "    else:\n",
    "        patience_counter += 1\n",
    "        if patience_counter >= patience:\n",
    "            print(\"Early stopping triggered\")\n",
    "            break"
   ]
  },
  {
   "cell_type": "code",
   "execution_count": 14,
   "metadata": {
    "execution": {
     "iopub.execute_input": "2025-09-10T10:17:41.828605Z",
     "iopub.status.busy": "2025-09-10T10:17:41.828296Z",
     "iopub.status.idle": "2025-09-10T10:17:42.278566Z",
     "shell.execute_reply": "2025-09-10T10:17:42.277712Z",
     "shell.execute_reply.started": "2025-09-10T10:17:41.828583Z"
    },
    "trusted": true
   },
   "outputs": [],
   "source": [
    "torch.save(model.state_dict(), \"bestmodel.pt\")\n"
   ]
  },
  {
   "cell_type": "code",
   "execution_count": 15,
   "metadata": {
    "execution": {
     "iopub.execute_input": "2025-09-10T10:17:45.933665Z",
     "iopub.status.busy": "2025-09-10T10:17:45.933392Z",
     "iopub.status.idle": "2025-09-10T10:17:46.553986Z",
     "shell.execute_reply": "2025-09-10T10:17:46.553244Z",
     "shell.execute_reply.started": "2025-09-10T10:17:45.933644Z"
    },
    "trusted": true
   },
   "outputs": [
    {
     "data": {
      "text/plain": [
       "('bestmodel/tokenizer_config.json',\n",
       " 'bestmodel/special_tokens_map.json',\n",
       " 'bestmodel/vocab.txt',\n",
       " 'bestmodel/added_tokens.json',\n",
       " 'bestmodel/tokenizer.json')"
      ]
     },
     "execution_count": 15,
     "metadata": {},
     "output_type": "execute_result"
    }
   ],
   "source": [
    "model.save_pretrained(\"bestmodel\")\n",
    "tokenizer.save_pretrained(\"bestmodel\")\n"
   ]
  },
  {
   "cell_type": "code",
   "execution_count": 16,
   "metadata": {
    "execution": {
     "iopub.execute_input": "2025-09-10T10:17:52.358719Z",
     "iopub.status.busy": "2025-09-10T10:17:52.358290Z",
     "iopub.status.idle": "2025-09-10T10:18:03.624136Z",
     "shell.execute_reply": "2025-09-10T10:18:03.623289Z",
     "shell.execute_reply.started": "2025-09-10T10:17:52.358685Z"
    },
    "trusted": true
   },
   "outputs": [
    {
     "name": "stdout",
     "output_type": "stream",
     "text": [
      "\n",
      "==================================================\n",
      "FINAL TEST RESULTS\n",
      "==================================================\n",
      "Test Accuracy: 0.9998\n",
      "\n",
      "Classification Report:\n",
      "              precision    recall  f1-score   support\n",
      "\n",
      "           0       1.00      1.00      1.00      2460\n",
      "           1       1.00      1.00      1.00      2923\n",
      "\n",
      "    accuracy                           1.00      5383\n",
      "   macro avg       1.00      1.00      1.00      5383\n",
      "weighted avg       1.00      1.00      1.00      5383\n",
      "\n"
     ]
    }
   ],
   "source": [
    "model.load_state_dict(torch.load(\"bestmodel.pt\"))\n",
    "test_loss, test_accuracy, preds, true_labels = evaluate_model(model, test_loader)\n",
    "\n",
    "print(\"\\n\" + \"=\"*50)\n",
    "print(\"FINAL TEST RESULTS\")\n",
    "print(\"=\"*50)\n",
    "print(f\"Test Accuracy: {test_accuracy:.4f}\")\n",
    "print(\"\\nClassification Report:\")\n",
    "print(classification_report(true_labels, preds))"
   ]
  },
  {
   "cell_type": "code",
   "execution_count": 17,
   "metadata": {
    "execution": {
     "iopub.execute_input": "2025-09-10T10:18:07.564046Z",
     "iopub.status.busy": "2025-09-10T10:18:07.563736Z",
     "iopub.status.idle": "2025-09-10T10:18:07.736615Z",
     "shell.execute_reply": "2025-09-10T10:18:07.735821Z",
     "shell.execute_reply.started": "2025-09-10T10:18:07.564022Z"
    },
    "trusted": true
   },
   "outputs": [
    {
     "data": {
      "text/plain": [
       "DistilBertForSequenceClassification(\n",
       "  (distilbert): DistilBertModel(\n",
       "    (embeddings): Embeddings(\n",
       "      (word_embeddings): Embedding(30522, 768, padding_idx=0)\n",
       "      (position_embeddings): Embedding(512, 768)\n",
       "      (LayerNorm): LayerNorm((768,), eps=1e-12, elementwise_affine=True)\n",
       "      (dropout): Dropout(p=0.1, inplace=False)\n",
       "    )\n",
       "    (transformer): Transformer(\n",
       "      (layer): ModuleList(\n",
       "        (0-5): 6 x TransformerBlock(\n",
       "          (attention): DistilBertSdpaAttention(\n",
       "            (dropout): Dropout(p=0.1, inplace=False)\n",
       "            (q_lin): Linear(in_features=768, out_features=768, bias=True)\n",
       "            (k_lin): Linear(in_features=768, out_features=768, bias=True)\n",
       "            (v_lin): Linear(in_features=768, out_features=768, bias=True)\n",
       "            (out_lin): Linear(in_features=768, out_features=768, bias=True)\n",
       "          )\n",
       "          (sa_layer_norm): LayerNorm((768,), eps=1e-12, elementwise_affine=True)\n",
       "          (ffn): FFN(\n",
       "            (dropout): Dropout(p=0.1, inplace=False)\n",
       "            (lin1): Linear(in_features=768, out_features=3072, bias=True)\n",
       "            (lin2): Linear(in_features=3072, out_features=768, bias=True)\n",
       "            (activation): GELUActivation()\n",
       "          )\n",
       "          (output_layer_norm): LayerNorm((768,), eps=1e-12, elementwise_affine=True)\n",
       "        )\n",
       "      )\n",
       "    )\n",
       "  )\n",
       "  (pre_classifier): Linear(in_features=768, out_features=768, bias=True)\n",
       "  (classifier): Linear(in_features=768, out_features=2, bias=True)\n",
       "  (dropout): Dropout(p=0.2, inplace=False)\n",
       ")"
      ]
     },
     "execution_count": 17,
     "metadata": {},
     "output_type": "execute_result"
    }
   ],
   "source": [
    "from transformers import DistilBertForSequenceClassification, DistilBertTokenizerFast\n",
    "import torch\n",
    "\n",
    "device = torch.device(\"cuda\" if torch.cuda.is_available() else \"cpu\")\n",
    "\n",
    "model = DistilBertForSequenceClassification.from_pretrained(\"bestmodel\").to(device)\n",
    "tokenizer = DistilBertTokenizerFast.from_pretrained(\"bestmodel\")\n",
    "model.eval()\n"
   ]
  },
  {
   "cell_type": "code",
   "execution_count": 18,
   "metadata": {
    "execution": {
     "iopub.execute_input": "2025-09-10T10:18:13.714597Z",
     "iopub.status.busy": "2025-09-10T10:18:13.714318Z",
     "iopub.status.idle": "2025-09-10T10:18:13.723664Z",
     "shell.execute_reply": "2025-09-10T10:18:13.722562Z",
     "shell.execute_reply.started": "2025-09-10T10:18:13.714576Z"
    },
    "trusted": true
   },
   "outputs": [],
   "source": [
    "import pandas as pd, numpy as np, re\n",
    "from torch.utils.data import Dataset, DataLoader\n",
    "from sklearn.metrics import classification_report, accuracy_score\n",
    "\n",
    "def clean_text(text):\n",
    "    if pd.isna(text): return \"\"\n",
    "    text = str(text).lower()\n",
    "    text = re.sub(r\"http\\S+|www\\S+|https\\S+\", \"\", text)\n",
    "    text = re.sub(r\"\\S+@\\S+\", \"\", text)\n",
    "    text = re.sub(r\"@\\w+\", \"\", text)\n",
    "    text = re.sub(r\"\\s+\", \" \", text).strip()\n",
    "    return text\n",
    "\n",
    "class LiarDataset(Dataset):\n",
    "    def __init__(self, texts, labels, tokenizer, max_length=128):\n",
    "        self.encodings = tokenizer(\n",
    "            texts, truncation=True, padding=True, max_length=max_length\n",
    "        )\n",
    "        self.labels = labels\n",
    "    def __len__(self): return len(self.labels)\n",
    "    def __getitem__(self, idx):\n",
    "        item = {k: torch.tensor(v[idx]) for k, v in self.encodings.items()}\n",
    "        item[\"labels\"] = torch.tensor(int(self.labels[idx]), dtype=torch.long)\n",
    "        return item\n",
    "\n",
    "@torch.no_grad()\n",
    "def evaluate_loader(model, dataloader, device):\n",
    "    model.eval()\n",
    "    preds, trues = [], []\n",
    "    for batch in dataloader:\n",
    "        batch = {k: v.to(device) for k, v in batch.items()}\n",
    "        out = model(**batch)\n",
    "        preds.extend(torch.argmax(out.logits, dim=-1).cpu().numpy())\n",
    "        trues.extend(batch[\"labels\"].cpu().numpy())\n",
    "    acc = accuracy_score(trues, preds)\n",
    "    return acc, np.array(preds), np.array(trues)\n"
   ]
  },
  {
   "cell_type": "code",
   "execution_count": null,
   "metadata": {
    "execution": {
     "iopub.execute_input": "2025-09-10T10:20:20.934359Z",
     "iopub.status.busy": "2025-09-10T10:20:20.934034Z",
     "iopub.status.idle": "2025-09-10T10:20:21.106701Z",
     "shell.execute_reply": "2025-09-10T10:20:21.106022Z",
     "shell.execute_reply.started": "2025-09-10T10:20:20.934336Z"
    },
    "trusted": true
   },
   "outputs": [
    {
     "name": "stdout",
     "output_type": "stream",
     "text": [
      "           0            1                                                  2   \\\n",
      "0   2635.json        false  Says the Annies List political group supports ...   \n",
      "1  10540.json    half-true  When did the decline of coal start? It started...   \n",
      "2    324.json  mostly-true  Hillary Clinton agrees with John McCain \"by vo...   \n",
      "3   1123.json        false  Health care reform legislation is likely to ma...   \n",
      "4   9028.json    half-true  The economic turnaround started at the end of ...   \n",
      "\n",
      "                                   3               4                     5   \\\n",
      "0                            abortion    dwayne-bohac  State representative   \n",
      "1  energy,history,job-accomplishments  scott-surovell        State delegate   \n",
      "2                      foreign-policy    barack-obama             President   \n",
      "3                         health-care    blog-posting                   NaN   \n",
      "4                        economy,jobs   charlie-crist                   NaN   \n",
      "\n",
      "         6           7     8     9      10     11    12                   13  \n",
      "0     Texas  republican   0.0   1.0    0.0    0.0   0.0             a mailer  \n",
      "1  Virginia    democrat   0.0   0.0    1.0    1.0   0.0      a floor speech.  \n",
      "2  Illinois    democrat  70.0  71.0  160.0  163.0   9.0               Denver  \n",
      "3       NaN        none   7.0  19.0    3.0    5.0  44.0       a news release  \n",
      "4   Florida    democrat  15.0   9.0   20.0   19.0   2.0  an interview on CNN  \n"
     ]
    }
   ],
   "source": [
    "train_df = pd.read_csv(\"/kaggle/input/liar-dataset/train.tsv\", sep=\"\\t\", header=None)\n",
    "val_df   = pd.read_csv(\"/kaggle/input/liar-dataset/valid.tsv\", sep=\"\\t\", header=None)\n",
    "test_df  = pd.read_csv(\"/kaggle/input/liar-dataset/test.tsv\", sep=\"\\t\", header=None)\n",
    "\n",
    "print(train_df.head())\n"
   ]
  },
  {
   "cell_type": "code",
   "execution_count": null,
   "metadata": {
    "execution": {
     "iopub.execute_input": "2025-09-10T10:20:40.118997Z",
     "iopub.status.busy": "2025-09-10T10:20:40.118701Z",
     "iopub.status.idle": "2025-09-10T10:20:40.150558Z",
     "shell.execute_reply": "2025-09-10T10:20:40.149832Z",
     "shell.execute_reply.started": "2025-09-10T10:20:40.118973Z"
    },
    "trusted": true
   },
   "outputs": [
    {
     "name": "stdout",
     "output_type": "stream",
     "text": [
      "            0  label                                               text  \\\n",
      "0   2635.json      0  says the annies list political group supports ...   \n",
      "1  10540.json      1  when did the decline of coal start? it started...   \n",
      "2    324.json      1  hillary clinton agrees with john mccain \"by vo...   \n",
      "3   1123.json      0  health care reform legislation is likely to ma...   \n",
      "4   9028.json      1  the economic turnaround started at the end of ...   \n",
      "\n",
      "                                    3               4                     5  \\\n",
      "0                            abortion    dwayne-bohac  State representative   \n",
      "1  energy,history,job-accomplishments  scott-surovell        State delegate   \n",
      "2                      foreign-policy    barack-obama             President   \n",
      "3                         health-care    blog-posting                   NaN   \n",
      "4                        economy,jobs   charlie-crist                   NaN   \n",
      "\n",
      "          6           7     8     9     10     11    12                   13  \n",
      "0     Texas  republican   0.0   1.0    0.0    0.0   0.0             a mailer  \n",
      "1  Virginia    democrat   0.0   0.0    1.0    1.0   0.0      a floor speech.  \n",
      "2  Illinois    democrat  70.0  71.0  160.0  163.0   9.0               Denver  \n",
      "3       NaN        none   7.0  19.0    3.0    5.0  44.0       a news release  \n",
      "4   Florida    democrat  15.0   9.0   20.0   19.0   2.0  an interview on CNN  \n"
     ]
    }
   ],
   "source": [
    "\n",
    "for df in [train_df, val_df, test_df]:\n",
    "    df.rename(columns={1: \"label\", 2: \"text\"}, inplace=True)\n",
    "\n",
    "label_map = {\n",
    "    \"pants-fire\": 0,\n",
    "    \"false\": 0,\n",
    "    \"barely-true\": 0,\n",
    "    \"half-true\": 1,\n",
    "    \"mostly-true\": 1,\n",
    "    \"true\": 1\n",
    "}\n",
    "for df in [train_df, val_df, test_df]:\n",
    "    df[\"label\"] = df[\"label\"].map(label_map)\n",
    "\n",
    "for df in [train_df, val_df, test_df]:\n",
    "    df.dropna(subset=[\"label\"], inplace=True)\n",
    "\n",
    "def clean_text(text):\n",
    "    return str(text).strip().lower()\n",
    "\n",
    "for df in [train_df, val_df, test_df]:\n",
    "    df[\"text\"] = df[\"text\"].apply(clean_text)\n",
    "\n",
    "print(train_df.head())\n"
   ]
  },
  {
   "cell_type": "code",
   "execution_count": null,
   "metadata": {
    "execution": {
     "iopub.execute_input": "2025-09-10T10:21:09.261155Z",
     "iopub.status.busy": "2025-09-10T10:21:09.260833Z",
     "iopub.status.idle": "2025-09-10T10:21:10.452199Z",
     "shell.execute_reply": "2025-09-10T10:21:10.451417Z",
     "shell.execute_reply.started": "2025-09-10T10:21:09.261133Z"
    },
    "trusted": true
   },
   "outputs": [
    {
     "name": "stderr",
     "output_type": "stream",
     "text": [
      "Some weights of DistilBertForSequenceClassification were not initialized from the model checkpoint at distilbert-base-uncased and are newly initialized: ['classifier.bias', 'classifier.weight', 'pre_classifier.bias', 'pre_classifier.weight']\n",
      "You should probably TRAIN this model on a down-stream task to be able to use it for predictions and inference.\n"
     ]
    },
    {
     "data": {
      "text/plain": [
       "DistilBertForSequenceClassification(\n",
       "  (distilbert): DistilBertModel(\n",
       "    (embeddings): Embeddings(\n",
       "      (word_embeddings): Embedding(30522, 768, padding_idx=0)\n",
       "      (position_embeddings): Embedding(512, 768)\n",
       "      (LayerNorm): LayerNorm((768,), eps=1e-12, elementwise_affine=True)\n",
       "      (dropout): Dropout(p=0.1, inplace=False)\n",
       "    )\n",
       "    (transformer): Transformer(\n",
       "      (layer): ModuleList(\n",
       "        (0-5): 6 x TransformerBlock(\n",
       "          (attention): DistilBertSdpaAttention(\n",
       "            (dropout): Dropout(p=0.1, inplace=False)\n",
       "            (q_lin): Linear(in_features=768, out_features=768, bias=True)\n",
       "            (k_lin): Linear(in_features=768, out_features=768, bias=True)\n",
       "            (v_lin): Linear(in_features=768, out_features=768, bias=True)\n",
       "            (out_lin): Linear(in_features=768, out_features=768, bias=True)\n",
       "          )\n",
       "          (sa_layer_norm): LayerNorm((768,), eps=1e-12, elementwise_affine=True)\n",
       "          (ffn): FFN(\n",
       "            (dropout): Dropout(p=0.1, inplace=False)\n",
       "            (lin1): Linear(in_features=768, out_features=3072, bias=True)\n",
       "            (lin2): Linear(in_features=3072, out_features=768, bias=True)\n",
       "            (activation): GELUActivation()\n",
       "          )\n",
       "          (output_layer_norm): LayerNorm((768,), eps=1e-12, elementwise_affine=True)\n",
       "        )\n",
       "      )\n",
       "    )\n",
       "  )\n",
       "  (pre_classifier): Linear(in_features=768, out_features=768, bias=True)\n",
       "  (classifier): Linear(in_features=768, out_features=2, bias=True)\n",
       "  (dropout): Dropout(p=0.2, inplace=False)\n",
       ")"
      ]
     },
     "execution_count": 23,
     "metadata": {},
     "output_type": "execute_result"
    }
   ],
   "source": [
    "from transformers import DistilBertForSequenceClassification\n",
    "\n",
    "\n",
    "liar_model = DistilBertForSequenceClassification.from_pretrained(\n",
    "    \"distilbert-base-uncased\", \n",
    "    num_labels=2\n",
    ")\n",
    "\n",
    "\n",
    "liar_model.load_state_dict(torch.load(\"bestmodel.pt\", map_location=device))\n",
    "liar_model.to(device)\n",
    "liar_model.eval()\n"
   ]
  },
  {
   "cell_type": "code",
   "execution_count": 24,
   "metadata": {
    "execution": {
     "iopub.execute_input": "2025-09-10T10:21:16.154161Z",
     "iopub.status.busy": "2025-09-10T10:21:16.153861Z",
     "iopub.status.idle": "2025-09-10T10:21:20.733791Z",
     "shell.execute_reply": "2025-09-10T10:21:20.732982Z",
     "shell.execute_reply.started": "2025-09-10T10:21:16.154141Z"
    },
    "trusted": true
   },
   "outputs": [],
   "source": [
    "from transformers import DistilBertTokenizerFast\n",
    "\n",
    "tokenizer = DistilBertTokenizerFast.from_pretrained(\"distilbert-base-uncased\")\n",
    "\n",
    "def tokenize_dataset(df):\n",
    "    return tokenizer(\n",
    "        df[\"text\"].tolist(),\n",
    "        truncation=True,\n",
    "        padding=True,\n",
    "        max_length=512,\n",
    "        return_tensors=\"pt\"\n",
    "    )\n",
    "\n",
    "train_encodings_liar = tokenize_dataset(train_df)\n",
    "val_encodings_liar   = tokenize_dataset(val_df)\n",
    "test_encodings_liar  = tokenize_dataset(test_df)\n"
   ]
  },
  {
   "cell_type": "code",
   "execution_count": 25,
   "metadata": {
    "execution": {
     "iopub.execute_input": "2025-09-10T10:21:26.339157Z",
     "iopub.status.busy": "2025-09-10T10:21:26.338395Z",
     "iopub.status.idle": "2025-09-10T10:21:26.347444Z",
     "shell.execute_reply": "2025-09-10T10:21:26.346544Z",
     "shell.execute_reply.started": "2025-09-10T10:21:26.339124Z"
    },
    "trusted": true
   },
   "outputs": [],
   "source": [
    "import torch\n",
    "\n",
    "class NewsDataset(torch.utils.data.Dataset):\n",
    "    def __init__(self, encodings, labels):\n",
    "        self.encodings = encodings\n",
    "        self.labels = labels\n",
    "    def __len__(self):\n",
    "        return len(self.labels)\n",
    "    def __getitem__(self, idx):\n",
    "        item = {key: val[idx] for key, val in self.encodings.items()}\n",
    "        item[\"labels\"] = torch.tensor(self.labels[idx])\n",
    "        return item\n",
    "\n",
    "train_dataset_liar = NewsDataset(train_encodings_liar, train_df[\"label\"].tolist())\n",
    "val_dataset_liar   = NewsDataset(val_encodings_liar, val_df[\"label\"].tolist())\n",
    "test_dataset_liar  = NewsDataset(test_encodings_liar, test_df[\"label\"].tolist())\n"
   ]
  },
  {
   "cell_type": "code",
   "execution_count": 26,
   "metadata": {
    "execution": {
     "iopub.execute_input": "2025-09-10T10:21:32.820016Z",
     "iopub.status.busy": "2025-09-10T10:21:32.819155Z",
     "iopub.status.idle": "2025-09-10T10:21:32.825011Z",
     "shell.execute_reply": "2025-09-10T10:21:32.824189Z",
     "shell.execute_reply.started": "2025-09-10T10:21:32.819985Z"
    },
    "trusted": true
   },
   "outputs": [],
   "source": [
    "from torch.utils.data import DataLoader\n",
    "\n",
    "train_loader_liar = DataLoader(train_dataset_liar, batch_size=16, shuffle=False)\n",
    "val_loader_liar   = DataLoader(val_dataset_liar, batch_size=16, shuffle=False)\n",
    "test_loader_liar  = DataLoader(test_dataset_liar, batch_size=16, shuffle=False)\n"
   ]
  },
  {
   "cell_type": "code",
   "execution_count": 27,
   "metadata": {
    "execution": {
     "iopub.execute_input": "2025-09-10T10:21:38.719588Z",
     "iopub.status.busy": "2025-09-10T10:21:38.718990Z",
     "iopub.status.idle": "2025-09-10T10:21:48.318195Z",
     "shell.execute_reply": "2025-09-10T10:21:48.317362Z",
     "shell.execute_reply.started": "2025-09-10T10:21:38.719563Z"
    },
    "trusted": true
   },
   "outputs": [
    {
     "name": "stdout",
     "output_type": "stream",
     "text": [
      "=== LIAR Test Results ===\n",
      "Accuracy: 0.43725335438042623\n",
      "Report:\n",
      "               precision    recall  f1-score   support\n",
      "\n",
      "           0       0.44      1.00      0.61       553\n",
      "           1       0.67      0.00      0.01       714\n",
      "\n",
      "    accuracy                           0.44      1267\n",
      "   macro avg       0.55      0.50      0.31      1267\n",
      "weighted avg       0.57      0.44      0.27      1267\n",
      "\n"
     ]
    }
   ],
   "source": [
    "from sklearn.metrics import accuracy_score, classification_report\n",
    "\n",
    "def evaluate_model(model, data_loader):\n",
    "    model.eval()\n",
    "    preds, labels = [], []\n",
    "\n",
    "    with torch.no_grad():\n",
    "        for batch in data_loader:\n",
    "            batch = {k: v.to(device) for k, v in batch.items()}\n",
    "            outputs = model(**batch)\n",
    "            logits = outputs.logits\n",
    "            predictions = torch.argmax(logits, dim=-1)\n",
    "            preds.extend(predictions.cpu().numpy())\n",
    "            labels.extend(batch[\"labels\"].cpu().numpy())\n",
    "\n",
    "    acc = accuracy_score(labels, preds)\n",
    "    report = classification_report(labels, preds)\n",
    "    return acc, report\n",
    "\n",
    "# Evaluate\n",
    "acc, report = evaluate_model(liar_model, test_loader_liar)\n",
    "\n",
    "print(\"=== LIAR Test Results ===\")\n",
    "print(\"Accuracy:\", acc)\n",
    "print(\"Report:\\n\", report)\n"
   ]
  },
  {
   "cell_type": "code",
   "execution_count": null,
   "metadata": {
    "execution": {
     "iopub.execute_input": "2025-09-10T10:22:13.209550Z",
     "iopub.status.busy": "2025-09-10T10:22:13.208724Z",
     "iopub.status.idle": "2025-09-10T10:22:14.396638Z",
     "shell.execute_reply": "2025-09-10T10:22:14.395760Z",
     "shell.execute_reply.started": "2025-09-10T10:22:13.209519Z"
    },
    "trusted": true
   },
   "outputs": [
    {
     "name": "stderr",
     "output_type": "stream",
     "text": [
      "Some weights of DistilBertForSequenceClassification were not initialized from the model checkpoint at distilbert-base-uncased and are newly initialized: ['classifier.bias', 'classifier.weight', 'pre_classifier.bias', 'pre_classifier.weight']\n",
      "You should probably TRAIN this model on a down-stream task to be able to use it for predictions and inference.\n"
     ]
    },
    {
     "data": {
      "text/plain": [
       "DistilBertForSequenceClassification(\n",
       "  (distilbert): DistilBertModel(\n",
       "    (embeddings): Embeddings(\n",
       "      (word_embeddings): Embedding(30522, 768, padding_idx=0)\n",
       "      (position_embeddings): Embedding(512, 768)\n",
       "      (LayerNorm): LayerNorm((768,), eps=1e-12, elementwise_affine=True)\n",
       "      (dropout): Dropout(p=0.1, inplace=False)\n",
       "    )\n",
       "    (transformer): Transformer(\n",
       "      (layer): ModuleList(\n",
       "        (0-5): 6 x TransformerBlock(\n",
       "          (attention): DistilBertSdpaAttention(\n",
       "            (dropout): Dropout(p=0.1, inplace=False)\n",
       "            (q_lin): Linear(in_features=768, out_features=768, bias=True)\n",
       "            (k_lin): Linear(in_features=768, out_features=768, bias=True)\n",
       "            (v_lin): Linear(in_features=768, out_features=768, bias=True)\n",
       "            (out_lin): Linear(in_features=768, out_features=768, bias=True)\n",
       "          )\n",
       "          (sa_layer_norm): LayerNorm((768,), eps=1e-12, elementwise_affine=True)\n",
       "          (ffn): FFN(\n",
       "            (dropout): Dropout(p=0.1, inplace=False)\n",
       "            (lin1): Linear(in_features=768, out_features=3072, bias=True)\n",
       "            (lin2): Linear(in_features=3072, out_features=768, bias=True)\n",
       "            (activation): GELUActivation()\n",
       "          )\n",
       "          (output_layer_norm): LayerNorm((768,), eps=1e-12, elementwise_affine=True)\n",
       "        )\n",
       "      )\n",
       "    )\n",
       "  )\n",
       "  (pre_classifier): Linear(in_features=768, out_features=768, bias=True)\n",
       "  (classifier): Linear(in_features=768, out_features=2, bias=True)\n",
       "  (dropout): Dropout(p=0.2, inplace=False)\n",
       ")"
      ]
     },
     "execution_count": 28,
     "metadata": {},
     "output_type": "execute_result"
    }
   ],
   "source": [
    "from transformers import DistilBertForSequenceClassification\n",
    "\n",
    "model = DistilBertForSequenceClassification.from_pretrained(\"distilbert-base-uncased\", num_labels=2)\n",
    "\n",
    "\n",
    "model.load_state_dict(torch.load(\"bestmodel.pt\"))\n",
    "model.to(device)\n"
   ]
  },
  {
   "cell_type": "code",
   "execution_count": 29,
   "metadata": {
    "execution": {
     "iopub.execute_input": "2025-09-10T10:22:30.139040Z",
     "iopub.status.busy": "2025-09-10T10:22:30.138722Z",
     "iopub.status.idle": "2025-09-10T10:22:32.332121Z",
     "shell.execute_reply": "2025-09-10T10:22:32.331286Z",
     "shell.execute_reply.started": "2025-09-10T10:22:30.139019Z"
    },
    "trusted": true
   },
   "outputs": [],
   "source": [
    "from transformers import DistilBertTokenizerFast\n",
    "\n",
    "tokenizer = DistilBertTokenizerFast.from_pretrained(\"distilbert-base-uncased\")\n",
    "\n",
    "def tokenize_data(df, tokenizer, max_len=128):\n",
    "    return tokenizer(\n",
    "        df[\"text\"].tolist(),\n",
    "        padding=True,\n",
    "        truncation=True,\n",
    "        max_length=max_len,\n",
    "        return_tensors=\"pt\"\n",
    "    )\n",
    "\n",
    "train_encodings = tokenize_data(train_df, tokenizer)\n",
    "val_encodings   = tokenize_data(val_df, tokenizer)\n",
    "test_encodings  = tokenize_data(test_df, tokenizer)\n"
   ]
  },
  {
   "cell_type": "code",
   "execution_count": 30,
   "metadata": {
    "execution": {
     "iopub.execute_input": "2025-09-10T10:22:43.189899Z",
     "iopub.status.busy": "2025-09-10T10:22:43.189598Z",
     "iopub.status.idle": "2025-09-10T10:22:43.196443Z",
     "shell.execute_reply": "2025-09-10T10:22:43.195668Z",
     "shell.execute_reply.started": "2025-09-10T10:22:43.189877Z"
    },
    "trusted": true
   },
   "outputs": [],
   "source": [
    "import torch\n",
    "from torch.utils.data import TensorDataset, DataLoader\n",
    "\n",
    "def make_loader(encodings, labels, batch_size=16, shuffle=False):\n",
    "    dataset = TensorDataset(\n",
    "        encodings[\"input_ids\"], \n",
    "        encodings[\"attention_mask\"], \n",
    "        torch.tensor(labels.values)\n",
    "    )\n",
    "    return DataLoader(dataset, batch_size=batch_size, shuffle=shuffle)\n",
    "\n",
    "train_loader = make_loader(train_encodings, train_df[\"label\"], shuffle=True)\n",
    "val_loader   = make_loader(val_encodings, val_df[\"label\"])\n",
    "test_loader  = make_loader(test_encodings, test_df[\"label\"])\n"
   ]
  },
  {
   "cell_type": "code",
   "execution_count": null,
   "metadata": {
    "execution": {
     "iopub.execute_input": "2025-09-10T10:35:45.469128Z",
     "iopub.status.busy": "2025-09-10T10:35:45.468531Z",
     "iopub.status.idle": "2025-09-10T10:47:06.589177Z",
     "shell.execute_reply": "2025-09-10T10:47:06.588607Z",
     "shell.execute_reply.started": "2025-09-10T10:35:45.469097Z"
    },
    "trusted": true
   },
   "outputs": [
    {
     "name": "stderr",
     "output_type": "stream",
     "text": [
      "100%|██████████| 2560/2560 [05:25<00:00,  7.86it/s]\n",
      " 10%|█         | 640/6400 [01:06<09:54,  9.68it/s]"
     ]
    },
    {
     "name": "stdout",
     "output_type": "stream",
     "text": [
      "Epoch 1: Train Loss=0.0617, Val Loss=2.0717, Val Acc=0.6075\n"
     ]
    },
    {
     "name": "stderr",
     "output_type": "stream",
     "text": [
      " 20%|██        | 1280/6400 [02:14<08:48,  9.69it/s] "
     ]
    },
    {
     "name": "stdout",
     "output_type": "stream",
     "text": [
      "Epoch 2: Train Loss=0.0442, Val Loss=1.7208, Val Acc=0.6231\n"
     ]
    },
    {
     "name": "stderr",
     "output_type": "stream",
     "text": [
      " 30%|███       | 1921/6400 [03:24<42:50,  1.74it/s]  "
     ]
    },
    {
     "name": "stdout",
     "output_type": "stream",
     "text": [
      "Epoch 3: Train Loss=0.0291, Val Loss=1.8478, Val Acc=0.6098\n"
     ]
    },
    {
     "name": "stderr",
     "output_type": "stream",
     "text": [
      " 40%|████      | 2560/6400 [04:30<06:36,  9.68it/s]"
     ]
    },
    {
     "name": "stdout",
     "output_type": "stream",
     "text": [
      "Epoch 4: Train Loss=0.0191, Val Loss=1.9889, Val Acc=0.6293\n"
     ]
    },
    {
     "name": "stderr",
     "output_type": "stream",
     "text": [
      " 50%|█████     | 3200/6400 [05:38<05:30,  9.67it/s]"
     ]
    },
    {
     "name": "stdout",
     "output_type": "stream",
     "text": [
      "Epoch 5: Train Loss=0.0183, Val Loss=2.0045, Val Acc=0.6332\n"
     ]
    },
    {
     "name": "stderr",
     "output_type": "stream",
     "text": [
      " 60%|██████    | 3840/6400 [06:47<04:24,  9.67it/s]"
     ]
    },
    {
     "name": "stdout",
     "output_type": "stream",
     "text": [
      "Epoch 6: Train Loss=0.0114, Val Loss=2.2790, Val Acc=0.6410\n"
     ]
    },
    {
     "name": "stderr",
     "output_type": "stream",
     "text": [
      " 70%|███████   | 4481/6400 [07:57<18:25,  1.74it/s]"
     ]
    },
    {
     "name": "stdout",
     "output_type": "stream",
     "text": [
      "Epoch 7: Train Loss=0.0083, Val Loss=2.3075, Val Acc=0.6363\n"
     ]
    },
    {
     "name": "stderr",
     "output_type": "stream",
     "text": [
      " 80%|████████  | 5120/6400 [09:03<02:12,  9.67it/s]"
     ]
    },
    {
     "name": "stdout",
     "output_type": "stream",
     "text": [
      "Epoch 8: Train Loss=0.0039, Val Loss=2.6207, Val Acc=0.6433\n"
     ]
    },
    {
     "name": "stderr",
     "output_type": "stream",
     "text": [
      " 90%|█████████ | 5761/6400 [10:13<06:07,  1.74it/s]"
     ]
    },
    {
     "name": "stdout",
     "output_type": "stream",
     "text": [
      "Epoch 9: Train Loss=0.0059, Val Loss=2.5287, Val Acc=0.6324\n"
     ]
    },
    {
     "name": "stderr",
     "output_type": "stream",
     "text": [
      "100%|██████████| 6400/6400 [11:19<00:00,  9.69it/s]"
     ]
    },
    {
     "name": "stdout",
     "output_type": "stream",
     "text": [
      "Epoch 10: Train Loss=0.0031, Val Loss=2.5737, Val Acc=0.6347\n",
      "Early stopping triggered.\n"
     ]
    },
    {
     "data": {
      "text/plain": [
       "<All keys matched successfully>"
      ]
     },
     "execution_count": 35,
     "metadata": {},
     "output_type": "execute_result"
    }
   ],
   "source": [
    "from torch.optim import AdamW\n",
    "from transformers import get_scheduler\n",
    "from tqdm import tqdm\n",
    "import torch\n",
    "\n",
    "\n",
    "optimizer = AdamW(model.parameters(), lr=3e-5, weight_decay=0.01)\n",
    "\n",
    "num_epochs = 10  \n",
    "num_training_steps = num_epochs * len(train_loader)\n",
    "lr_scheduler = get_scheduler(\"linear\", optimizer, num_warmup_steps=0, num_training_steps=num_training_steps)\n",
    "\n",
    "device = torch.device(\"cuda\" if torch.cuda.is_available() else \"cpu\")\n",
    "\n",
    "def evaluate(model, val_loader):\n",
    "    \n",
    "    model.eval()\n",
    "    correct, total, val_loss = 0, 0, 0.0\n",
    "    criterion = torch.nn.CrossEntropyLoss()\n",
    "    \n",
    "    with torch.no_grad():\n",
    "        for batch in val_loader:\n",
    "            batch = [t.to(device) for t in batch]\n",
    "            input_ids, attention_mask, labels = batch\n",
    "\n",
    "            outputs = model(input_ids=input_ids, attention_mask=attention_mask, labels=labels)\n",
    "            loss = outputs.loss\n",
    "            logits = outputs.logits\n",
    "\n",
    "            val_loss += loss.item()\n",
    "            preds = torch.argmax(logits, dim=-1)\n",
    "            correct += (preds == labels).sum().item()\n",
    "            total += labels.size(0)\n",
    "    \n",
    "    return val_loss / len(val_loader), correct / total\n",
    "\n",
    "\n",
    "\n",
    "best_val_acc = 0\n",
    "patience, patience_counter = 2, 0  \n",
    "\n",
    "progress_bar = tqdm(range(num_training_steps))\n",
    "\n",
    "for epoch in range(num_epochs):\n",
    "    model.train()\n",
    "    total_loss = 0.0\n",
    "    \n",
    "    for batch in train_loader:\n",
    "        batch = [t.to(device) for t in batch]\n",
    "        input_ids, attention_mask, labels = batch\n",
    "\n",
    "        outputs = model(input_ids=input_ids, attention_mask=attention_mask, labels=labels)\n",
    "        loss = outputs.loss\n",
    "\n",
    "        optimizer.zero_grad()\n",
    "        loss.backward()\n",
    "        optimizer.step()\n",
    "        lr_scheduler.step()\n",
    "\n",
    "        total_loss += loss.item()\n",
    "        progress_bar.update(1)\n",
    "\n",
    "    avg_train_loss = total_loss / len(train_loader)\n",
    "    val_loss, val_acc = evaluate(model, val_loader)\n",
    "\n",
    "    print(f\"Epoch {epoch+1}: Train Loss={avg_train_loss:.4f}, Val Loss={val_loss:.4f}, Val Acc={val_acc:.4f}\")\n",
    "\n",
    "    if val_acc > best_val_acc:\n",
    "        best_val_acc = val_acc\n",
    "        patience_counter = 0\n",
    "        torch.save(model.state_dict(), \"bestmodel.pt\")  \n",
    "    else:\n",
    "        patience_counter += 1\n",
    "        if patience_counter >= patience:\n",
    "            print(\"Early stopping triggered.\")\n",
    "            break\n",
    "\n",
    "\n",
    "model.load_state_dict(torch.load(\"bestmodel.pt\"))\n"
   ]
  },
  {
   "cell_type": "code",
   "execution_count": 36,
   "metadata": {
    "execution": {
     "iopub.execute_input": "2025-09-10T10:47:35.049085Z",
     "iopub.status.busy": "2025-09-10T10:47:35.048742Z",
     "iopub.status.idle": "2025-09-10T10:47:37.214810Z",
     "shell.execute_reply": "2025-09-10T10:47:37.214102Z",
     "shell.execute_reply.started": "2025-09-10T10:47:35.049058Z"
    },
    "trusted": true
   },
   "outputs": [
    {
     "name": "stdout",
     "output_type": "stream",
     "text": [
      "Fine-tuned Test Accuracy: 0.6432517758484609\n",
      "              precision    recall  f1-score   support\n",
      "\n",
      "           0       0.62      0.49      0.54       553\n",
      "           1       0.66      0.76      0.71       714\n",
      "\n",
      "    accuracy                           0.64      1267\n",
      "   macro avg       0.64      0.63      0.63      1267\n",
      "weighted avg       0.64      0.64      0.64      1267\n",
      "\n"
     ]
    }
   ],
   "source": [
    "from sklearn.metrics import accuracy_score, classification_report\n",
    "\n",
    "def evaluate(model, loader):\n",
    "    model.eval()\n",
    "    preds, true_labels = [], []\n",
    "    with torch.no_grad():\n",
    "        for batch in loader:\n",
    "            batch = [t.to(device) for t in batch]\n",
    "            input_ids, attention_mask, labels = batch\n",
    "            outputs = model(input_ids=input_ids, attention_mask=attention_mask)\n",
    "            logits = outputs.logits\n",
    "            predictions = torch.argmax(logits, dim=-1)\n",
    "            preds.extend(predictions.cpu().numpy())\n",
    "            true_labels.extend(labels.cpu().numpy())\n",
    "\n",
    "    acc = accuracy_score(true_labels, preds)\n",
    "    report = classification_report(true_labels, preds)\n",
    "    return acc, report\n",
    "\n",
    "acc, report = evaluate(model, test_loader)\n",
    "print(\"Fine-tuned Test Accuracy:\", acc)\n",
    "print(report)\n"
   ]
  }
 ],
 "metadata": {
  "kaggle": {
   "accelerator": "gpu",
   "dataSources": [
    {
     "datasetId": 2712039,
     "sourceId": 4679796,
     "sourceType": "datasetVersion"
    },
    {
     "datasetId": 4727630,
     "sourceId": 8022663,
     "sourceType": "datasetVersion"
    }
   ],
   "dockerImageVersionId": 31090,
   "isGpuEnabled": true,
   "isInternetEnabled": true,
   "language": "python",
   "sourceType": "notebook"
  },
  "kernelspec": {
   "display_name": "Python 3",
   "language": "python",
   "name": "python3"
  },
  "language_info": {
   "codemirror_mode": {
    "name": "ipython",
    "version": 3
   },
   "file_extension": ".py",
   "mimetype": "text/x-python",
   "name": "python",
   "nbconvert_exporter": "python",
   "pygments_lexer": "ipython3",
   "version": "3.11.13"
  }
 },
 "nbformat": 4,
 "nbformat_minor": 4
}
