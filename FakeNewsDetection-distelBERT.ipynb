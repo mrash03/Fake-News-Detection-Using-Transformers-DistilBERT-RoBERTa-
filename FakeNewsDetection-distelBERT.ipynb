{
 "cells": [
  {
   "cell_type": "code",
   "execution_count": null,
   "metadata": {
    "_cell_guid": "b1076dfc-b9ad-4769-8c92-a6c4dae69d19",
    "_uuid": "8f2839f25d086af736a60e9eeb907d3b93b6e0e5",
    "execution": {
     "iopub.execute_input": "2025-09-10T09:59:47.323166Z",
     "iopub.status.busy": "2025-09-10T09:59:47.322869Z",
     "iopub.status.idle": "2025-09-10T09:59:48.758279Z",
     "shell.execute_reply": "2025-09-10T09:59:48.757473Z",
     "shell.execute_reply.started": "2025-09-10T09:59:47.323142Z"
    },
    "trusted": true
   },
   "outputs": [],
   "source": [
    "# This Python 3 environment comes with many helpful analytics libraries installed\n",
    "# It is defined by the kaggle/python Docker image: https://github.com/kaggle/docker-python\n",
    "# For example, here's several helpful packages to load\n",
    "\n",
    "import numpy as np # linear algebra\n",
    "import pandas as pd # data processing, CSV file I/O (e.g. pd.read_csv)\n",
    "\n",
    "# Input data files are available in the read-only \"../input/\" directory\n",
    "# For example, running this (by clicking run or pressing Shift+Enter) will list all files under the input directory\n",
    "\n",
    "import os\n",
    "for dirname, _, filenames in os.walk('/kaggle/input'):\n",
    "    for filename in filenames:\n",
    "        print(os.path.join(dirname, filename))\n",
    "\n",
    "# You can write up to 20GB to the current directory (/kaggle/working/) that gets preserved as output when you create a version using \"Save & Run All\" \n",
    "# You can also write temporary files to /kaggle/temp/, but they won't be saved outside of the current session"
   ]
  },
  {
   "cell_type": "code",
   "execution_count": null,
   "metadata": {
    "execution": {
     "iopub.execute_input": "2025-09-10T10:00:05.986176Z",
     "iopub.status.busy": "2025-09-10T10:00:05.985857Z",
     "iopub.status.idle": "2025-09-10T10:00:31.223756Z",
     "shell.execute_reply": "2025-09-10T10:00:31.222958Z",
     "shell.execute_reply.started": "2025-09-10T10:00:05.986154Z"
    },
    "trusted": true
   },
   "outputs": [],
   "source": [
    "import pandas as pd\n",
    "import numpy as np\n",
    "from sklearn.model_selection import train_test_split\n",
    "from sklearn.metrics import classification_report, accuracy_score\n",
    "import torch\n",
    "from transformers import DistilBertTokenizerFast, DistilBertForSequenceClassification, get_scheduler\n",
    "from torch.utils.data import DataLoader\n",
    "from torch.optim import AdamW\n",
    "from tqdm import tqdm\n",
    "import re, hashlib"
   ]
  },
  {
   "cell_type": "code",
   "execution_count": 3,
   "metadata": {
    "execution": {
     "iopub.execute_input": "2025-09-10T10:01:03.404761Z",
     "iopub.status.busy": "2025-09-10T10:01:03.403720Z",
     "iopub.status.idle": "2025-09-10T10:01:05.916651Z",
     "shell.execute_reply": "2025-09-10T10:01:05.915757Z",
     "shell.execute_reply.started": "2025-09-10T10:01:03.404735Z"
    },
    "trusted": true
   },
   "outputs": [],
   "source": [
    "fake = pd.read_csv('/kaggle/input/fake-news-detection-datasets/News _dataset/Fake.csv')\n",
    "real = pd.read_csv('/kaggle/input/fake-news-detection-datasets/News _dataset/True.csv')"
   ]
  },
  {
   "cell_type": "code",
   "execution_count": 4,
   "metadata": {
    "execution": {
     "iopub.execute_input": "2025-09-10T10:01:17.654298Z",
     "iopub.status.busy": "2025-09-10T10:01:17.654005Z",
     "iopub.status.idle": "2025-09-10T10:01:17.671224Z",
     "shell.execute_reply": "2025-09-10T10:01:17.670503Z",
     "shell.execute_reply.started": "2025-09-10T10:01:17.654277Z"
    },
    "trusted": true
   },
   "outputs": [],
   "source": [
    "fake['label'] = 0\n",
    "real['label'] = 1\n",
    "data = pd.concat([fake, real], axis=0).reset_index(drop=True)"
   ]
  },
  {
   "cell_type": "code",
   "execution_count": 5,
   "metadata": {
    "execution": {
     "iopub.execute_input": "2025-09-10T10:01:38.279356Z",
     "iopub.status.busy": "2025-09-10T10:01:38.279062Z",
     "iopub.status.idle": "2025-09-10T10:01:52.496750Z",
     "shell.execute_reply": "2025-09-10T10:01:52.496115Z",
     "shell.execute_reply.started": "2025-09-10T10:01:38.279334Z"
    },
    "trusted": true
   },
   "outputs": [],
   "source": [
    "def clean_text(text):\n",
    "    if pd.isna(text):\n",
    "        return \"\"\n",
    "    text = str(text).lower()\n",
    "    text = re.sub(r'http\\S+|www\\S+|https\\S+', '', text)\n",
    "    text = re.sub(r'\\S+@\\S+', '', text)\n",
    "    text = re.sub(r'@\\w+', '', text)\n",
    "    text = re.sub(r'\\b(reuters|ap|cnn|bbc|fox|nbc|abc|cbs)\\b', '', text)\n",
    "    text = re.sub(r'\\s+', ' ', text).strip()\n",
    "    return text\n",
    "\n",
    "data['text'] = data['text'].apply(clean_text)\n",
    "data = data[data['text'].str.len() > 10].reset_index(drop=True)"
   ]
  },
  {
   "cell_type": "code",
   "execution_count": 6,
   "metadata": {
    "execution": {
     "iopub.execute_input": "2025-09-10T10:01:58.208426Z",
     "iopub.status.busy": "2025-09-10T10:01:58.207830Z",
     "iopub.status.idle": "2025-09-10T10:02:05.061213Z",
     "shell.execute_reply": "2025-09-10T10:02:05.060576Z",
     "shell.execute_reply.started": "2025-09-10T10:01:58.208403Z"
    },
    "trusted": true
   },
   "outputs": [],
   "source": [
    "def get_text_hash(text):\n",
    "    normalized = re.sub(r'[^\\w\\s]', '', text.lower())\n",
    "    normalized = re.sub(r'\\s+', ' ', normalized).strip()\n",
    "    return hashlib.md5(normalized.encode()).hexdigest()\n",
    "\n",
    "data = data.drop_duplicates(subset='text').reset_index(drop=True)\n",
    "data['text_hash'] = data['text'].apply(get_text_hash)\n",
    "data = data.drop_duplicates(subset='text_hash').reset_index(drop=True)\n",
    "data = data.drop('text_hash', axis=1)\n",
    "data = data[(data['text'].str.len() >= 50) & (data['text'].str.len() <= 5000)].reset_index(drop=True)"
   ]
  },
  {
   "cell_type": "code",
   "execution_count": 7,
   "metadata": {
    "execution": {
     "iopub.execute_input": "2025-09-10T10:02:11.984233Z",
     "iopub.status.busy": "2025-09-10T10:02:11.983627Z",
     "iopub.status.idle": "2025-09-10T10:02:12.026478Z",
     "shell.execute_reply": "2025-09-10T10:02:12.025703Z",
     "shell.execute_reply.started": "2025-09-10T10:02:11.984207Z"
    },
    "trusted": true
   },
   "outputs": [],
   "source": [
    "train_texts, temp_texts, train_labels, temp_labels = train_test_split(\n",
    "    data['text'].tolist(), data['label'].tolist(),\n",
    "    test_size=0.3, random_state=42, stratify=data['label']\n",
    ")\n",
    "\n",
    "val_texts, test_texts, val_labels, test_labels = train_test_split(\n",
    "    temp_texts, temp_labels,\n",
    "    test_size=0.5, random_state=42, stratify=temp_labels\n",
    ")\n"
   ]
  },
  {
   "cell_type": "code",
   "execution_count": null,
   "metadata": {
    "execution": {
     "iopub.execute_input": "2025-09-10T10:02:26.686261Z",
     "iopub.status.busy": "2025-09-10T10:02:26.685982Z",
     "iopub.status.idle": "2025-09-10T10:02:54.155057Z",
     "shell.execute_reply": "2025-09-10T10:02:54.154252Z",
     "shell.execute_reply.started": "2025-09-10T10:02:26.686241Z"
    },
    "trusted": true
   },
   "outputs": [],
   "source": [
    "tokenizer = DistilBertTokenizerFast.from_pretrained('distilbert-base-uncased')\n",
    "train_encodings = tokenizer(train_texts, truncation=True, padding=True, max_length=128)\n",
    "val_encodings = tokenizer(val_texts, truncation=True, padding=True, max_length=128)\n",
    "test_encodings = tokenizer(test_texts, truncation=True, padding=True, max_length=128)\n",
    "\n",
    "class NewsDataset(torch.utils.data.Dataset):\n",
    "    def __init__(self, encodings, labels):\n",
    "        self.encodings = encodings\n",
    "        self.labels = labels\n",
    "    def __len__(self):\n",
    "        return len(self.labels)\n",
    "    def __getitem__(self, idx):\n",
    "        item = {k: torch.tensor(v[idx]) for k, v in self.encodings.items()}\n",
    "        item['labels'] = torch.tensor(self.labels[idx], dtype=torch.long)\n",
    "        return item\n",
    "\n",
    "train_dataset = NewsDataset(train_encodings, train_labels)\n",
    "val_dataset = NewsDataset(val_encodings, val_labels)\n",
    "test_dataset = NewsDataset(test_encodings, test_labels)"
   ]
  },
  {
   "cell_type": "code",
   "execution_count": null,
   "metadata": {
    "execution": {
     "iopub.execute_input": "2025-09-10T10:02:58.739063Z",
     "iopub.status.busy": "2025-09-10T10:02:58.738840Z",
     "iopub.status.idle": "2025-09-10T10:02:59.313878Z",
     "shell.execute_reply": "2025-09-10T10:02:59.313020Z",
     "shell.execute_reply.started": "2025-09-10T10:02:58.739047Z"
    },
    "trusted": true
   },
   "outputs": [],
   "source": [
    "device = torch.device(\"cuda\" if torch.cuda.is_available() else \"cpu\")\n",
    "model = DistilBertForSequenceClassification.from_pretrained('distilbert-base-uncased', num_labels=2).to(device)\n",
    "\n",
    "train_loader = DataLoader(train_dataset, batch_size=8, shuffle=True)\n",
    "val_loader = DataLoader(val_dataset, batch_size=8)\n",
    "test_loader = DataLoader(test_dataset, batch_size=8)\n",
    "\n",
    "optimizer = AdamW(model.parameters(), lr=2e-5)\n",
    "num_epochs = 3\n",
    "gradient_accumulation_steps = 2 \n",
    "num_training_steps = (num_epochs * len(train_loader)) // gradient_accumulation_steps\n",
    "lr_scheduler = get_scheduler(\"linear\", optimizer=optimizer, num_warmup_steps=50, num_training_steps=num_training_steps)"
   ]
  },
  {
   "cell_type": "code",
   "execution_count": 12,
   "metadata": {
    "execution": {
     "iopub.execute_input": "2025-09-10T10:03:14.344135Z",
     "iopub.status.busy": "2025-09-10T10:03:14.343329Z",
     "iopub.status.idle": "2025-09-10T10:03:14.350784Z",
     "shell.execute_reply": "2025-09-10T10:03:14.349961Z",
     "shell.execute_reply.started": "2025-09-10T10:03:14.344103Z"
    },
    "trusted": true
   },
   "outputs": [],
   "source": [
    "def evaluate_model(model, dataloader):\n",
    "    model.eval()\n",
    "    total_loss, preds, true_labels = 0, [], []\n",
    "    with torch.no_grad():\n",
    "        for batch in dataloader:\n",
    "            batch = {k: v.to(device) for k, v in batch.items()}\n",
    "            outputs = model(**batch)\n",
    "            total_loss += outputs.loss.item()\n",
    "            preds.extend(torch.argmax(outputs.logits, dim=-1).cpu().numpy())\n",
    "            true_labels.extend(batch['labels'].cpu().numpy())\n",
    "    return total_loss / len(dataloader), accuracy_score(true_labels, preds), preds, true_labels"
   ]
  },
  {
   "cell_type": "code",
   "execution_count": null,
   "metadata": {
    "execution": {
     "iopub.execute_input": "2025-09-10T10:03:33.758646Z",
     "iopub.status.busy": "2025-09-10T10:03:33.757833Z",
     "iopub.status.idle": "2025-09-10T10:13:50.051652Z",
     "shell.execute_reply": "2025-09-10T10:13:50.050739Z",
     "shell.execute_reply.started": "2025-09-10T10:03:33.758621Z"
    },
    "trusted": true
   },
   "outputs": [],
   "source": [
    "best_val_accuracy = 0\n",
    "patience, patience_counter = 2, 0 \n",
    "\n",
    "for epoch in range(num_epochs):\n",
    "    model.train()\n",
    "    total_train_loss = 0\n",
    "    progress_bar = tqdm(enumerate(train_loader), total=len(train_loader), desc=f\"Epoch {epoch+1}\")\n",
    "\n",
    "    for step, batch in progress_bar:\n",
    "        batch = {k: v.to(device) for k, v in batch.items()}\n",
    "        outputs = model(**batch)\n",
    "        loss = outputs.loss / gradient_accumulation_steps\n",
    "        loss.backward()\n",
    "        total_train_loss += loss.item()\n",
    "\n",
    "        if (step + 1) % gradient_accumulation_steps == 0:\n",
    "            optimizer.step()\n",
    "            lr_scheduler.step()\n",
    "            optimizer.zero_grad()\n",
    "\n",
    "        progress_bar.set_postfix({\"loss\": f\"{loss.item():.4f}\"})\n",
    "\n",
    "    avg_train_loss = total_train_loss / len(train_loader)\n",
    "    val_loss, val_accuracy, _, _ = evaluate_model(model, val_loader)\n",
    "\n",
    "    print(f\"\\nEpoch {epoch+1}: Train Loss={avg_train_loss:.4f}, Val Loss={val_loss:.4f}, Val Acc={val_accuracy:.4f}\")\n",
    "\n",
    "    if val_accuracy > best_val_accuracy:\n",
    "        best_val_accuracy = val_accuracy\n",
    "        torch.save(model.state_dict(), \"best_model.pt\")\n",
    "        patience_counter = 0\n",
    "        print(\"Saved best model\")\n",
    "    else:\n",
    "        patience_counter += 1\n",
    "        if patience_counter >= patience:\n",
    "            print(\"Early stopping triggered\")\n",
    "            break"
   ]
  },
  {
   "cell_type": "code",
   "execution_count": 14,
   "metadata": {
    "execution": {
     "iopub.execute_input": "2025-09-10T10:17:41.828605Z",
     "iopub.status.busy": "2025-09-10T10:17:41.828296Z",
     "iopub.status.idle": "2025-09-10T10:17:42.278566Z",
     "shell.execute_reply": "2025-09-10T10:17:42.277712Z",
     "shell.execute_reply.started": "2025-09-10T10:17:41.828583Z"
    },
    "trusted": true
   },
   "outputs": [],
   "source": [
    "torch.save(model.state_dict(), \"bestmodel.pt\")\n"
   ]
  },
  {
   "cell_type": "code",
   "execution_count": null,
   "metadata": {
    "execution": {
     "iopub.execute_input": "2025-09-10T10:17:45.933665Z",
     "iopub.status.busy": "2025-09-10T10:17:45.933392Z",
     "iopub.status.idle": "2025-09-10T10:17:46.553986Z",
     "shell.execute_reply": "2025-09-10T10:17:46.553244Z",
     "shell.execute_reply.started": "2025-09-10T10:17:45.933644Z"
    },
    "trusted": true
   },
   "outputs": [],
   "source": [
    "model.save_pretrained(\"bestmodel\")\n",
    "tokenizer.save_pretrained(\"bestmodel\")\n"
   ]
  },
  {
   "cell_type": "code",
   "execution_count": null,
   "metadata": {
    "execution": {
     "iopub.execute_input": "2025-09-10T10:17:52.358719Z",
     "iopub.status.busy": "2025-09-10T10:17:52.358290Z",
     "iopub.status.idle": "2025-09-10T10:18:03.624136Z",
     "shell.execute_reply": "2025-09-10T10:18:03.623289Z",
     "shell.execute_reply.started": "2025-09-10T10:17:52.358685Z"
    },
    "trusted": true
   },
   "outputs": [],
   "source": [
    "model.load_state_dict(torch.load(\"bestmodel.pt\"))\n",
    "test_loss, test_accuracy, preds, true_labels = evaluate_model(model, test_loader)\n",
    "\n",
    "print(\"\\n\" + \"=\"*50)\n",
    "print(\"FINAL TEST RESULTS\")\n",
    "print(\"=\"*50)\n",
    "print(f\"Test Accuracy: {test_accuracy:.4f}\")\n",
    "print(\"\\nClassification Report:\")\n",
    "print(classification_report(true_labels, preds))"
   ]
  },
  {
   "cell_type": "code",
   "execution_count": null,
   "metadata": {
    "execution": {
     "iopub.execute_input": "2025-09-10T10:18:07.564046Z",
     "iopub.status.busy": "2025-09-10T10:18:07.563736Z",
     "iopub.status.idle": "2025-09-10T10:18:07.736615Z",
     "shell.execute_reply": "2025-09-10T10:18:07.735821Z",
     "shell.execute_reply.started": "2025-09-10T10:18:07.564022Z"
    },
    "trusted": true
   },
   "outputs": [],
   "source": [
    "from transformers import DistilBertForSequenceClassification, DistilBertTokenizerFast\n",
    "import torch\n",
    "\n",
    "device = torch.device(\"cuda\" if torch.cuda.is_available() else \"cpu\")\n",
    "\n",
    "model = DistilBertForSequenceClassification.from_pretrained(\"bestmodel\").to(device)\n",
    "tokenizer = DistilBertTokenizerFast.from_pretrained(\"bestmodel\")\n",
    "model.eval()\n"
   ]
  },
  {
   "cell_type": "code",
   "execution_count": 18,
   "metadata": {
    "execution": {
     "iopub.execute_input": "2025-09-10T10:18:13.714597Z",
     "iopub.status.busy": "2025-09-10T10:18:13.714318Z",
     "iopub.status.idle": "2025-09-10T10:18:13.723664Z",
     "shell.execute_reply": "2025-09-10T10:18:13.722562Z",
     "shell.execute_reply.started": "2025-09-10T10:18:13.714576Z"
    },
    "trusted": true
   },
   "outputs": [],
   "source": [
    "import pandas as pd, numpy as np, re\n",
    "from torch.utils.data import Dataset, DataLoader\n",
    "from sklearn.metrics import classification_report, accuracy_score\n",
    "\n",
    "def clean_text(text):\n",
    "    if pd.isna(text): return \"\"\n",
    "    text = str(text).lower()\n",
    "    text = re.sub(r\"http\\S+|www\\S+|https\\S+\", \"\", text)\n",
    "    text = re.sub(r\"\\S+@\\S+\", \"\", text)\n",
    "    text = re.sub(r\"@\\w+\", \"\", text)\n",
    "    text = re.sub(r\"\\s+\", \" \", text).strip()\n",
    "    return text\n",
    "\n",
    "class LiarDataset(Dataset):\n",
    "    def __init__(self, texts, labels, tokenizer, max_length=128):\n",
    "        self.encodings = tokenizer(\n",
    "            texts, truncation=True, padding=True, max_length=max_length\n",
    "        )\n",
    "        self.labels = labels\n",
    "    def __len__(self): return len(self.labels)\n",
    "    def __getitem__(self, idx):\n",
    "        item = {k: torch.tensor(v[idx]) for k, v in self.encodings.items()}\n",
    "        item[\"labels\"] = torch.tensor(int(self.labels[idx]), dtype=torch.long)\n",
    "        return item\n",
    "\n",
    "@torch.no_grad()\n",
    "def evaluate_loader(model, dataloader, device):\n",
    "    model.eval()\n",
    "    preds, trues = [], []\n",
    "    for batch in dataloader:\n",
    "        batch = {k: v.to(device) for k, v in batch.items()}\n",
    "        out = model(**batch)\n",
    "        preds.extend(torch.argmax(out.logits, dim=-1).cpu().numpy())\n",
    "        trues.extend(batch[\"labels\"].cpu().numpy())\n",
    "    acc = accuracy_score(trues, preds)\n",
    "    return acc, np.array(preds), np.array(trues)\n"
   ]
  },
  {
   "cell_type": "code",
   "execution_count": null,
   "metadata": {
    "execution": {
     "iopub.execute_input": "2025-09-10T10:20:20.934359Z",
     "iopub.status.busy": "2025-09-10T10:20:20.934034Z",
     "iopub.status.idle": "2025-09-10T10:20:21.106701Z",
     "shell.execute_reply": "2025-09-10T10:20:21.106022Z",
     "shell.execute_reply.started": "2025-09-10T10:20:20.934336Z"
    },
    "trusted": true
   },
   "outputs": [],
   "source": [
    "train_df = pd.read_csv(\"/kaggle/input/liar-dataset/train.tsv\", sep=\"\\t\", header=None)\n",
    "val_df   = pd.read_csv(\"/kaggle/input/liar-dataset/valid.tsv\", sep=\"\\t\", header=None)\n",
    "test_df  = pd.read_csv(\"/kaggle/input/liar-dataset/test.tsv\", sep=\"\\t\", header=None)\n",
    "\n",
    "print(train_df.head())\n"
   ]
  },
  {
   "cell_type": "code",
   "execution_count": null,
   "metadata": {
    "execution": {
     "iopub.execute_input": "2025-09-10T10:20:40.118997Z",
     "iopub.status.busy": "2025-09-10T10:20:40.118701Z",
     "iopub.status.idle": "2025-09-10T10:20:40.150558Z",
     "shell.execute_reply": "2025-09-10T10:20:40.149832Z",
     "shell.execute_reply.started": "2025-09-10T10:20:40.118973Z"
    },
    "trusted": true
   },
   "outputs": [],
   "source": [
    "\n",
    "for df in [train_df, val_df, test_df]:\n",
    "    df.rename(columns={1: \"label\", 2: \"text\"}, inplace=True)\n",
    "\n",
    "label_map = {\n",
    "    \"pants-fire\": 0,\n",
    "    \"false\": 0,\n",
    "    \"barely-true\": 0,\n",
    "    \"half-true\": 1,\n",
    "    \"mostly-true\": 1,\n",
    "    \"true\": 1\n",
    "}\n",
    "for df in [train_df, val_df, test_df]:\n",
    "    df[\"label\"] = df[\"label\"].map(label_map)\n",
    "\n",
    "for df in [train_df, val_df, test_df]:\n",
    "    df.dropna(subset=[\"label\"], inplace=True)\n",
    "\n",
    "def clean_text(text):\n",
    "    return str(text).strip().lower()\n",
    "\n",
    "for df in [train_df, val_df, test_df]:\n",
    "    df[\"text\"] = df[\"text\"].apply(clean_text)\n",
    "\n",
    "print(train_df.head())\n"
   ]
  },
  {
   "cell_type": "code",
   "execution_count": null,
   "metadata": {
    "execution": {
     "iopub.execute_input": "2025-09-10T10:21:09.261155Z",
     "iopub.status.busy": "2025-09-10T10:21:09.260833Z",
     "iopub.status.idle": "2025-09-10T10:21:10.452199Z",
     "shell.execute_reply": "2025-09-10T10:21:10.451417Z",
     "shell.execute_reply.started": "2025-09-10T10:21:09.261133Z"
    },
    "trusted": true
   },
   "outputs": [],
   "source": [
    "from transformers import DistilBertForSequenceClassification\n",
    "\n",
    "\n",
    "liar_model = DistilBertForSequenceClassification.from_pretrained(\n",
    "    \"distilbert-base-uncased\", \n",
    "    num_labels=2\n",
    ")\n",
    "\n",
    "\n",
    "liar_model.load_state_dict(torch.load(\"bestmodel.pt\", map_location=device))\n",
    "liar_model.to(device)\n",
    "liar_model.eval()\n"
   ]
  },
  {
   "cell_type": "code",
   "execution_count": 24,
   "metadata": {
    "execution": {
     "iopub.execute_input": "2025-09-10T10:21:16.154161Z",
     "iopub.status.busy": "2025-09-10T10:21:16.153861Z",
     "iopub.status.idle": "2025-09-10T10:21:20.733791Z",
     "shell.execute_reply": "2025-09-10T10:21:20.732982Z",
     "shell.execute_reply.started": "2025-09-10T10:21:16.154141Z"
    },
    "trusted": true
   },
   "outputs": [],
   "source": [
    "from transformers import DistilBertTokenizerFast\n",
    "\n",
    "tokenizer = DistilBertTokenizerFast.from_pretrained(\"distilbert-base-uncased\")\n",
    "\n",
    "def tokenize_dataset(df):\n",
    "    return tokenizer(\n",
    "        df[\"text\"].tolist(),\n",
    "        truncation=True,\n",
    "        padding=True,\n",
    "        max_length=512,\n",
    "        return_tensors=\"pt\"\n",
    "    )\n",
    "\n",
    "train_encodings_liar = tokenize_dataset(train_df)\n",
    "val_encodings_liar   = tokenize_dataset(val_df)\n",
    "test_encodings_liar  = tokenize_dataset(test_df)\n"
   ]
  },
  {
   "cell_type": "code",
   "execution_count": 25,
   "metadata": {
    "execution": {
     "iopub.execute_input": "2025-09-10T10:21:26.339157Z",
     "iopub.status.busy": "2025-09-10T10:21:26.338395Z",
     "iopub.status.idle": "2025-09-10T10:21:26.347444Z",
     "shell.execute_reply": "2025-09-10T10:21:26.346544Z",
     "shell.execute_reply.started": "2025-09-10T10:21:26.339124Z"
    },
    "trusted": true
   },
   "outputs": [],
   "source": [
    "import torch\n",
    "\n",
    "class NewsDataset(torch.utils.data.Dataset):\n",
    "    def __init__(self, encodings, labels):\n",
    "        self.encodings = encodings\n",
    "        self.labels = labels\n",
    "    def __len__(self):\n",
    "        return len(self.labels)\n",
    "    def __getitem__(self, idx):\n",
    "        item = {key: val[idx] for key, val in self.encodings.items()}\n",
    "        item[\"labels\"] = torch.tensor(self.labels[idx])\n",
    "        return item\n",
    "\n",
    "train_dataset_liar = NewsDataset(train_encodings_liar, train_df[\"label\"].tolist())\n",
    "val_dataset_liar   = NewsDataset(val_encodings_liar, val_df[\"label\"].tolist())\n",
    "test_dataset_liar  = NewsDataset(test_encodings_liar, test_df[\"label\"].tolist())\n"
   ]
  },
  {
   "cell_type": "code",
   "execution_count": 26,
   "metadata": {
    "execution": {
     "iopub.execute_input": "2025-09-10T10:21:32.820016Z",
     "iopub.status.busy": "2025-09-10T10:21:32.819155Z",
     "iopub.status.idle": "2025-09-10T10:21:32.825011Z",
     "shell.execute_reply": "2025-09-10T10:21:32.824189Z",
     "shell.execute_reply.started": "2025-09-10T10:21:32.819985Z"
    },
    "trusted": true
   },
   "outputs": [],
   "source": [
    "from torch.utils.data import DataLoader\n",
    "\n",
    "train_loader_liar = DataLoader(train_dataset_liar, batch_size=16, shuffle=False)\n",
    "val_loader_liar   = DataLoader(val_dataset_liar, batch_size=16, shuffle=False)\n",
    "test_loader_liar  = DataLoader(test_dataset_liar, batch_size=16, shuffle=False)\n"
   ]
  },
  {
   "cell_type": "code",
   "execution_count": null,
   "metadata": {
    "execution": {
     "iopub.execute_input": "2025-09-10T10:21:38.719588Z",
     "iopub.status.busy": "2025-09-10T10:21:38.718990Z",
     "iopub.status.idle": "2025-09-10T10:21:48.318195Z",
     "shell.execute_reply": "2025-09-10T10:21:48.317362Z",
     "shell.execute_reply.started": "2025-09-10T10:21:38.719563Z"
    },
    "trusted": true
   },
   "outputs": [],
   "source": [
    "from sklearn.metrics import accuracy_score, classification_report\n",
    "\n",
    "def evaluate_model(model, data_loader):\n",
    "    model.eval()\n",
    "    preds, labels = [], []\n",
    "\n",
    "    with torch.no_grad():\n",
    "        for batch in data_loader:\n",
    "            batch = {k: v.to(device) for k, v in batch.items()}\n",
    "            outputs = model(**batch)\n",
    "            logits = outputs.logits\n",
    "            predictions = torch.argmax(logits, dim=-1)\n",
    "            preds.extend(predictions.cpu().numpy())\n",
    "            labels.extend(batch[\"labels\"].cpu().numpy())\n",
    "\n",
    "    acc = accuracy_score(labels, preds)\n",
    "    report = classification_report(labels, preds)\n",
    "    return acc, report\n",
    "\n",
    "# Evaluate\n",
    "acc, report = evaluate_model(liar_model, test_loader_liar)\n",
    "\n",
    "print(\"=== LIAR Test Results ===\")\n",
    "print(\"Accuracy:\", acc)\n",
    "print(\"Report:\\n\", report)\n"
   ]
  },
  {
   "cell_type": "code",
   "execution_count": null,
   "metadata": {
    "execution": {
     "iopub.execute_input": "2025-09-10T10:22:13.209550Z",
     "iopub.status.busy": "2025-09-10T10:22:13.208724Z",
     "iopub.status.idle": "2025-09-10T10:22:14.396638Z",
     "shell.execute_reply": "2025-09-10T10:22:14.395760Z",
     "shell.execute_reply.started": "2025-09-10T10:22:13.209519Z"
    },
    "trusted": true
   },
   "outputs": [],
   "source": [
    "from transformers import DistilBertForSequenceClassification\n",
    "\n",
    "model = DistilBertForSequenceClassification.from_pretrained(\"distilbert-base-uncased\", num_labels=2)\n",
    "\n",
    "\n",
    "model.load_state_dict(torch.load(\"bestmodel.pt\"))\n",
    "model.to(device)\n"
   ]
  },
  {
   "cell_type": "code",
   "execution_count": 29,
   "metadata": {
    "execution": {
     "iopub.execute_input": "2025-09-10T10:22:30.139040Z",
     "iopub.status.busy": "2025-09-10T10:22:30.138722Z",
     "iopub.status.idle": "2025-09-10T10:22:32.332121Z",
     "shell.execute_reply": "2025-09-10T10:22:32.331286Z",
     "shell.execute_reply.started": "2025-09-10T10:22:30.139019Z"
    },
    "trusted": true
   },
   "outputs": [],
   "source": [
    "from transformers import DistilBertTokenizerFast\n",
    "\n",
    "tokenizer = DistilBertTokenizerFast.from_pretrained(\"distilbert-base-uncased\")\n",
    "\n",
    "def tokenize_data(df, tokenizer, max_len=128):\n",
    "    return tokenizer(\n",
    "        df[\"text\"].tolist(),\n",
    "        padding=True,\n",
    "        truncation=True,\n",
    "        max_length=max_len,\n",
    "        return_tensors=\"pt\"\n",
    "    )\n",
    "\n",
    "train_encodings = tokenize_data(train_df, tokenizer)\n",
    "val_encodings   = tokenize_data(val_df, tokenizer)\n",
    "test_encodings  = tokenize_data(test_df, tokenizer)\n"
   ]
  },
  {
   "cell_type": "code",
   "execution_count": 30,
   "metadata": {
    "execution": {
     "iopub.execute_input": "2025-09-10T10:22:43.189899Z",
     "iopub.status.busy": "2025-09-10T10:22:43.189598Z",
     "iopub.status.idle": "2025-09-10T10:22:43.196443Z",
     "shell.execute_reply": "2025-09-10T10:22:43.195668Z",
     "shell.execute_reply.started": "2025-09-10T10:22:43.189877Z"
    },
    "trusted": true
   },
   "outputs": [],
   "source": [
    "import torch\n",
    "from torch.utils.data import TensorDataset, DataLoader\n",
    "\n",
    "def make_loader(encodings, labels, batch_size=16, shuffle=False):\n",
    "    dataset = TensorDataset(\n",
    "        encodings[\"input_ids\"], \n",
    "        encodings[\"attention_mask\"], \n",
    "        torch.tensor(labels.values)\n",
    "    )\n",
    "    return DataLoader(dataset, batch_size=batch_size, shuffle=shuffle)\n",
    "\n",
    "train_loader = make_loader(train_encodings, train_df[\"label\"], shuffle=True)\n",
    "val_loader   = make_loader(val_encodings, val_df[\"label\"])\n",
    "test_loader  = make_loader(test_encodings, test_df[\"label\"])\n"
   ]
  },
  {
   "cell_type": "code",
   "execution_count": null,
   "metadata": {
    "execution": {
     "iopub.execute_input": "2025-09-10T10:35:45.469128Z",
     "iopub.status.busy": "2025-09-10T10:35:45.468531Z",
     "iopub.status.idle": "2025-09-10T10:47:06.589177Z",
     "shell.execute_reply": "2025-09-10T10:47:06.588607Z",
     "shell.execute_reply.started": "2025-09-10T10:35:45.469097Z"
    },
    "trusted": true
   },
   "outputs": [],
   "source": [
    "from torch.optim import AdamW\n",
    "from transformers import get_scheduler\n",
    "from tqdm import tqdm\n",
    "import torch\n",
    "\n",
    "\n",
    "optimizer = AdamW(model.parameters(), lr=3e-5, weight_decay=0.01)\n",
    "\n",
    "num_epochs = 10  \n",
    "num_training_steps = num_epochs * len(train_loader)\n",
    "lr_scheduler = get_scheduler(\"linear\", optimizer, num_warmup_steps=0, num_training_steps=num_training_steps)\n",
    "\n",
    "device = torch.device(\"cuda\" if torch.cuda.is_available() else \"cpu\")\n",
    "\n",
    "def evaluate(model, val_loader):\n",
    "    \n",
    "    model.eval()\n",
    "    correct, total, val_loss = 0, 0, 0.0\n",
    "    criterion = torch.nn.CrossEntropyLoss()\n",
    "    \n",
    "    with torch.no_grad():\n",
    "        for batch in val_loader:\n",
    "            batch = [t.to(device) for t in batch]\n",
    "            input_ids, attention_mask, labels = batch\n",
    "\n",
    "            outputs = model(input_ids=input_ids, attention_mask=attention_mask, labels=labels)\n",
    "            loss = outputs.loss\n",
    "            logits = outputs.logits\n",
    "\n",
    "            val_loss += loss.item()\n",
    "            preds = torch.argmax(logits, dim=-1)\n",
    "            correct += (preds == labels).sum().item()\n",
    "            total += labels.size(0)\n",
    "    \n",
    "    return val_loss / len(val_loader), correct / total\n",
    "\n",
    "\n",
    "\n",
    "best_val_acc = 0\n",
    "patience, patience_counter = 2, 0  \n",
    "\n",
    "progress_bar = tqdm(range(num_training_steps))\n",
    "\n",
    "for epoch in range(num_epochs):\n",
    "    model.train()\n",
    "    total_loss = 0.0\n",
    "    \n",
    "    for batch in train_loader:\n",
    "        batch = [t.to(device) for t in batch]\n",
    "        input_ids, attention_mask, labels = batch\n",
    "\n",
    "        outputs = model(input_ids=input_ids, attention_mask=attention_mask, labels=labels)\n",
    "        loss = outputs.loss\n",
    "\n",
    "        optimizer.zero_grad()\n",
    "        loss.backward()\n",
    "        optimizer.step()\n",
    "        lr_scheduler.step()\n",
    "\n",
    "        total_loss += loss.item()\n",
    "        progress_bar.update(1)\n",
    "\n",
    "    avg_train_loss = total_loss / len(train_loader)\n",
    "    val_loss, val_acc = evaluate(model, val_loader)\n",
    "\n",
    "    print(f\"Epoch {epoch+1}: Train Loss={avg_train_loss:.4f}, Val Loss={val_loss:.4f}, Val Acc={val_acc:.4f}\")\n",
    "\n",
    "    if val_acc > best_val_acc:\n",
    "        best_val_acc = val_acc\n",
    "        patience_counter = 0\n",
    "        torch.save(model.state_dict(), \"bestmodel.pt\")  \n",
    "    else:\n",
    "        patience_counter += 1\n",
    "        if patience_counter >= patience:\n",
    "            print(\"Early stopping triggered.\")\n",
    "            break\n",
    "\n",
    "\n",
    "model.load_state_dict(torch.load(\"bestmodel.pt\"))\n"
   ]
  },
  {
   "cell_type": "code",
   "execution_count": null,
   "metadata": {
    "execution": {
     "iopub.execute_input": "2025-09-10T10:47:35.049085Z",
     "iopub.status.busy": "2025-09-10T10:47:35.048742Z",
     "iopub.status.idle": "2025-09-10T10:47:37.214810Z",
     "shell.execute_reply": "2025-09-10T10:47:37.214102Z",
     "shell.execute_reply.started": "2025-09-10T10:47:35.049058Z"
    },
    "trusted": true
   },
   "outputs": [],
   "source": [
    "from sklearn.metrics import accuracy_score, classification_report\n",
    "\n",
    "def evaluate(model, loader):\n",
    "    model.eval()\n",
    "    preds, true_labels = [], []\n",
    "    with torch.no_grad():\n",
    "        for batch in loader:\n",
    "            batch = [t.to(device) for t in batch]\n",
    "            input_ids, attention_mask, labels = batch\n",
    "            outputs = model(input_ids=input_ids, attention_mask=attention_mask)\n",
    "            logits = outputs.logits\n",
    "            predictions = torch.argmax(logits, dim=-1)\n",
    "            preds.extend(predictions.cpu().numpy())\n",
    "            true_labels.extend(labels.cpu().numpy())\n",
    "\n",
    "    acc = accuracy_score(true_labels, preds)\n",
    "    report = classification_report(true_labels, preds)\n",
    "    return acc, report\n",
    "\n",
    "acc, report = evaluate(model, test_loader)\n",
    "print(\"Fine-tuned Test Accuracy:\", acc)\n",
    "print(report)\n"
   ]
  }
 ],
 "metadata": {
  "kaggle": {
   "accelerator": "gpu",
   "dataSources": [
    {
     "datasetId": 2712039,
     "sourceId": 4679796,
     "sourceType": "datasetVersion"
    },
    {
     "datasetId": 4727630,
     "sourceId": 8022663,
     "sourceType": "datasetVersion"
    }
   ],
   "dockerImageVersionId": 31090,
   "isGpuEnabled": true,
   "isInternetEnabled": true,
   "language": "python",
   "sourceType": "notebook"
  },
  "kernelspec": {
   "display_name": "Python 3",
   "language": "python",
   "name": "python3"
  },
  "language_info": {
   "codemirror_mode": {
    "name": "ipython",
    "version": 3
   },
   "file_extension": ".py",
   "mimetype": "text/x-python",
   "name": "python",
   "nbconvert_exporter": "python",
   "pygments_lexer": "ipython3",
   "version": "3.11.13"
  }
 },
 "nbformat": 4,
 "nbformat_minor": 4
}
